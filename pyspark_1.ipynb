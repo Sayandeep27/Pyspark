{
  "nbformat": 4,
  "nbformat_minor": 0,
  "metadata": {
    "colab": {
      "provenance": [],
      "authorship_tag": "ABX9TyNDDgSIwidYYws6tleSSCbu",
      "include_colab_link": true
    },
    "kernelspec": {
      "name": "python3",
      "display_name": "Python 3"
    },
    "language_info": {
      "name": "python"
    }
  },
  "cells": [
    {
      "cell_type": "markdown",
      "metadata": {
        "id": "view-in-github",
        "colab_type": "text"
      },
      "source": [
        "<a href=\"https://colab.research.google.com/github/Sayandeep27/Pyspark/blob/main/pyspark_1.ipynb\" target=\"_parent\"><img src=\"https://colab.research.google.com/assets/colab-badge.svg\" alt=\"Open In Colab\"/></a>"
      ]
    },
    {
      "cell_type": "code",
      "execution_count": null,
      "metadata": {
        "colab": {
          "base_uri": "https://localhost:8080/"
        },
        "id": "aG8DY2NwJb5Q",
        "outputId": "f6a463ae-d912-4358-c921-29fccc7d467d"
      },
      "outputs": [
        {
          "output_type": "stream",
          "name": "stdout",
          "text": [
            "Collecting pyspark\n",
            "  Downloading pyspark-3.5.1.tar.gz (317.0 MB)\n",
            "\u001b[2K     \u001b[90m━━━━━━━━━━━━━━━━━━━━━━━━━━━━━━━━━━━━━━━━\u001b[0m \u001b[32m317.0/317.0 MB\u001b[0m \u001b[31m2.6 MB/s\u001b[0m eta \u001b[36m0:00:00\u001b[0m\n",
            "\u001b[?25h  Preparing metadata (setup.py) ... \u001b[?25l\u001b[?25hdone\n",
            "Requirement already satisfied: py4j==0.10.9.7 in /usr/local/lib/python3.10/dist-packages (from pyspark) (0.10.9.7)\n",
            "Building wheels for collected packages: pyspark\n",
            "  Building wheel for pyspark (setup.py) ... \u001b[?25l\u001b[?25hdone\n",
            "  Created wheel for pyspark: filename=pyspark-3.5.1-py2.py3-none-any.whl size=317488491 sha256=e153c8ed66af103db906a15ff7d074ec34aa29418e6d443dc960656cf848f4bd\n",
            "  Stored in directory: /root/.cache/pip/wheels/80/1d/60/2c256ed38dddce2fdd93be545214a63e02fbd8d74fb0b7f3a6\n",
            "Successfully built pyspark\n",
            "Installing collected packages: pyspark\n",
            "Successfully installed pyspark-3.5.1\n"
          ]
        }
      ],
      "source": [
        "!pip install pyspark\n"
      ]
    },
    {
      "cell_type": "code",
      "source": [
        "from pyspark.sql import SparkSession\n",
        "from pyspark.ml.feature import VectorAssembler\n",
        "from pyspark.ml.classification import DecisionTreeClassifier\n",
        "from pyspark.ml.evaluation import MulticlassClassificationEvaluator\n"
      ],
      "metadata": {
        "id": "J_SHvJCCJhkA"
      },
      "execution_count": null,
      "outputs": []
    },
    {
      "cell_type": "code",
      "source": [
        "spark = SparkSession.builder.appName(\"IrisClassifier\").getOrCreate()\n"
      ],
      "metadata": {
        "id": "Qf3dk85_J1EO"
      },
      "execution_count": null,
      "outputs": []
    },
    {
      "cell_type": "code",
      "source": [
        "data = [\n",
        "    (5.1, 3.5, 1.4, 0.2, \"setosa\"),\n",
        "    (4.9, 3.0, 1.4, 0.2, \"setosa\"),\n",
        "    (4.7, 3.2, 1.3, 0.2, \"setosa\"),\n",
        "    (4.6, 3.1, 1.5, 0.2, \"setosa\"),\n",
        "    (5.0, 3.6, 1.4, 0.2, \"setosa\"),\n",
        "    (7.0, 3.2, 4.7, 1.4, \"versicolor\"),\n",
        "    (6.4, 3.2, 4.5, 1.5, \"versicolor\"),\n",
        "    (6.9, 3.1, 4.9, 1.5, \"versicolor\"),\n",
        "    (5.5, 2.3, 4.0, 1.3, \"versicolor\"),\n",
        "    (6.5, 2.8, 4.6, 1.5, \"versicolor\"),\n",
        "    (6.3, 3.3, 6.0, 2.5, \"virginica\"),\n",
        "    (5.8, 2.7, 5.1, 1.9, \"virginica\"),\n",
        "    (7.1, 3.0, 5.9, 2.1, \"virginica\"),\n",
        "    (6.3, 2.9, 5.6, 1.8, \"virginica\"),\n",
        "    (6.5, 3.0, 5.8, 2.2, \"virginica\")\n",
        "]\n",
        "\n",
        "columns = [\"sepal_length\", \"sepal_width\", \"petal_length\", \"petal_width\", \"species\"]\n",
        "df = spark.createDataFrame(data, columns)\n"
      ],
      "metadata": {
        "id": "kcuVHOPPJ4M0"
      },
      "execution_count": null,
      "outputs": []
    },
    {
      "cell_type": "code",
      "source": [
        "# Convert species to numerical values\n",
        "from pyspark.ml.feature import StringIndexer\n",
        "\n",
        "indexer = StringIndexer(inputCol=\"species\", outputCol=\"label\")\n",
        "df = indexer.fit(df).transform(df)\n",
        "\n",
        "# Assemble features into a single vector\n",
        "assembler = VectorAssembler(inputCols=[\"sepal_length\", \"sepal_width\", \"petal_length\", \"petal_width\"], outputCol=\"features\")\n",
        "df = assembler.transform(df)\n",
        "\n",
        "df = df.select(\"features\", \"label\")\n",
        "df.show()\n"
      ],
      "metadata": {
        "colab": {
          "base_uri": "https://localhost:8080/"
        },
        "id": "PT_7BK7qJ491",
        "outputId": "7da4d2b8-ffa1-4daf-cb81-17f259d61a58"
      },
      "execution_count": null,
      "outputs": [
        {
          "output_type": "stream",
          "name": "stdout",
          "text": [
            "+-----------------+-----+\n",
            "|         features|label|\n",
            "+-----------------+-----+\n",
            "|[5.1,3.5,1.4,0.2]|  0.0|\n",
            "|[4.9,3.0,1.4,0.2]|  0.0|\n",
            "|[4.7,3.2,1.3,0.2]|  0.0|\n",
            "|[4.6,3.1,1.5,0.2]|  0.0|\n",
            "|[5.0,3.6,1.4,0.2]|  0.0|\n",
            "|[7.0,3.2,4.7,1.4]|  1.0|\n",
            "|[6.4,3.2,4.5,1.5]|  1.0|\n",
            "|[6.9,3.1,4.9,1.5]|  1.0|\n",
            "|[5.5,2.3,4.0,1.3]|  1.0|\n",
            "|[6.5,2.8,4.6,1.5]|  1.0|\n",
            "|[6.3,3.3,6.0,2.5]|  2.0|\n",
            "|[5.8,2.7,5.1,1.9]|  2.0|\n",
            "|[7.1,3.0,5.9,2.1]|  2.0|\n",
            "|[6.3,2.9,5.6,1.8]|  2.0|\n",
            "|[6.5,3.0,5.8,2.2]|  2.0|\n",
            "+-----------------+-----+\n",
            "\n"
          ]
        }
      ]
    },
    {
      "cell_type": "code",
      "source": [
        "train_df, test_df = df.randomSplit([0.8, 0.2])\n"
      ],
      "metadata": {
        "id": "qAs53IFdJ5Aa"
      },
      "execution_count": null,
      "outputs": []
    },
    {
      "cell_type": "code",
      "source": [
        "dt = DecisionTreeClassifier(featuresCol=\"features\", labelCol=\"label\")\n",
        "model = dt.fit(train_df)\n"
      ],
      "metadata": {
        "id": "3LeTpsjGJ5Ct"
      },
      "execution_count": null,
      "outputs": []
    },
    {
      "cell_type": "code",
      "source": [
        "predictions = model.transform(test_df)\n",
        "predictions.show()\n"
      ],
      "metadata": {
        "colab": {
          "base_uri": "https://localhost:8080/"
        },
        "id": "REheo02lJ5Fi",
        "outputId": "532d3c47-b340-4a5c-a970-9357758628a8"
      },
      "execution_count": null,
      "outputs": [
        {
          "output_type": "stream",
          "name": "stdout",
          "text": [
            "+-----------------+-----+-------------+-------------+----------+\n",
            "|         features|label|rawPrediction|  probability|prediction|\n",
            "+-----------------+-----+-------------+-------------+----------+\n",
            "|[4.7,3.2,1.3,0.2]|  0.0|[2.0,0.0,0.0]|[1.0,0.0,0.0]|       0.0|\n",
            "|[4.9,3.0,1.4,0.2]|  0.0|[2.0,0.0,0.0]|[1.0,0.0,0.0]|       0.0|\n",
            "|[5.1,3.5,1.4,0.2]|  0.0|[2.0,0.0,0.0]|[1.0,0.0,0.0]|       0.0|\n",
            "|[6.9,3.1,4.9,1.5]|  1.0|[0.0,4.0,0.0]|[0.0,1.0,0.0]|       1.0|\n",
            "+-----------------+-----+-------------+-------------+----------+\n",
            "\n"
          ]
        }
      ]
    },
    {
      "cell_type": "code",
      "source": [
        "evaluator = MulticlassClassificationEvaluator(labelCol=\"label\", predictionCol=\"prediction\", metricName=\"accuracy\")\n",
        "accuracy = evaluator.evaluate(predictions)\n",
        "print(f\"Accuracy: {accuracy}\")\n"
      ],
      "metadata": {
        "colab": {
          "base_uri": "https://localhost:8080/"
        },
        "id": "IQtblZ9EJ5Il",
        "outputId": "fb001593-a9c4-4d8e-80e2-cfe1d9d16375"
      },
      "execution_count": null,
      "outputs": [
        {
          "output_type": "stream",
          "name": "stdout",
          "text": [
            "Accuracy: 1.0\n"
          ]
        }
      ]
    },
    {
      "cell_type": "code",
      "source": [],
      "metadata": {
        "id": "LMOguugzJ5K0"
      },
      "execution_count": null,
      "outputs": []
    },
    {
      "cell_type": "code",
      "source": [],
      "metadata": {
        "id": "tLsTJDwTJ5OQ"
      },
      "execution_count": null,
      "outputs": []
    }
  ]
}